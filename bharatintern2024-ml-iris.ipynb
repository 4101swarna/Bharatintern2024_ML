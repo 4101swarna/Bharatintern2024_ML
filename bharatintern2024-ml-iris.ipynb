{
 "cells": [
  {
   "cell_type": "code",
   "execution_count": 1,
   "id": "5d0e43b6",
   "metadata": {
    "_cell_guid": "b1076dfc-b9ad-4769-8c92-a6c4dae69d19",
    "_uuid": "8f2839f25d086af736a60e9eeb907d3b93b6e0e5",
    "execution": {
     "iopub.execute_input": "2024-03-18T14:15:20.767939Z",
     "iopub.status.busy": "2024-03-18T14:15:20.767444Z",
     "iopub.status.idle": "2024-03-18T14:15:23.412698Z",
     "shell.execute_reply": "2024-03-18T14:15:23.411469Z"
    },
    "papermill": {
     "duration": 2.653762,
     "end_time": "2024-03-18T14:15:23.415768",
     "exception": false,
     "start_time": "2024-03-18T14:15:20.762006",
     "status": "completed"
    },
    "tags": []
   },
   "outputs": [],
   "source": [
    "import pandas as pd\n",
    "from sklearn.datasets import load_iris\n",
    "from sklearn.model_selection import train_test_split\n",
    "from sklearn.neighbors import KNeighborsClassifier\n",
    "from sklearn.metrics import accuracy_score"
   ]
  },
  {
   "cell_type": "code",
   "execution_count": 2,
   "id": "c58a910b",
   "metadata": {
    "execution": {
     "iopub.execute_input": "2024-03-18T14:15:23.424566Z",
     "iopub.status.busy": "2024-03-18T14:15:23.424046Z",
     "iopub.status.idle": "2024-03-18T14:15:23.436991Z",
     "shell.execute_reply": "2024-03-18T14:15:23.435535Z"
    },
    "papermill": {
     "duration": 0.019771,
     "end_time": "2024-03-18T14:15:23.439274",
     "exception": false,
     "start_time": "2024-03-18T14:15:23.419503",
     "status": "completed"
    },
    "tags": []
   },
   "outputs": [],
   "source": [
    "# Load the Iris dataset\n",
    "iris = load_iris()\n",
    "X, y = iris.data, iris.target"
   ]
  },
  {
   "cell_type": "code",
   "execution_count": 3,
   "id": "4ce2b4b4",
   "metadata": {
    "execution": {
     "iopub.execute_input": "2024-03-18T14:15:23.447095Z",
     "iopub.status.busy": "2024-03-18T14:15:23.446730Z",
     "iopub.status.idle": "2024-03-18T14:15:23.453200Z",
     "shell.execute_reply": "2024-03-18T14:15:23.452002Z"
    },
    "papermill": {
     "duration": 0.013329,
     "end_time": "2024-03-18T14:15:23.455726",
     "exception": false,
     "start_time": "2024-03-18T14:15:23.442397",
     "status": "completed"
    },
    "tags": []
   },
   "outputs": [],
   "source": [
    "# Split the dataset into training and testing sets\n",
    "X_train, X_test, y_train, y_test = train_test_split(X, y, test_size=0.2, random_state=42)"
   ]
  },
  {
   "cell_type": "code",
   "execution_count": 4,
   "id": "f8bad8e2",
   "metadata": {
    "execution": {
     "iopub.execute_input": "2024-03-18T14:15:23.463927Z",
     "iopub.status.busy": "2024-03-18T14:15:23.463170Z",
     "iopub.status.idle": "2024-03-18T14:15:23.467948Z",
     "shell.execute_reply": "2024-03-18T14:15:23.466948Z"
    },
    "papermill": {
     "duration": 0.011736,
     "end_time": "2024-03-18T14:15:23.470454",
     "exception": false,
     "start_time": "2024-03-18T14:15:23.458718",
     "status": "completed"
    },
    "tags": []
   },
   "outputs": [],
   "source": [
    "# Initialize the K-Nearest Neighbors classifier\n",
    "knn = KNeighborsClassifier(n_neighbors=3)"
   ]
  },
  {
   "cell_type": "code",
   "execution_count": 5,
   "id": "2a0e9344",
   "metadata": {
    "execution": {
     "iopub.execute_input": "2024-03-18T14:15:23.478139Z",
     "iopub.status.busy": "2024-03-18T14:15:23.477754Z",
     "iopub.status.idle": "2024-03-18T14:15:23.493733Z",
     "shell.execute_reply": "2024-03-18T14:15:23.492878Z"
    },
    "papermill": {
     "duration": 0.022435,
     "end_time": "2024-03-18T14:15:23.495894",
     "exception": false,
     "start_time": "2024-03-18T14:15:23.473459",
     "status": "completed"
    },
    "tags": []
   },
   "outputs": [
    {
     "data": {
      "text/html": [
       "<style>#sk-container-id-1 {color: black;background-color: white;}#sk-container-id-1 pre{padding: 0;}#sk-container-id-1 div.sk-toggleable {background-color: white;}#sk-container-id-1 label.sk-toggleable__label {cursor: pointer;display: block;width: 100%;margin-bottom: 0;padding: 0.3em;box-sizing: border-box;text-align: center;}#sk-container-id-1 label.sk-toggleable__label-arrow:before {content: \"▸\";float: left;margin-right: 0.25em;color: #696969;}#sk-container-id-1 label.sk-toggleable__label-arrow:hover:before {color: black;}#sk-container-id-1 div.sk-estimator:hover label.sk-toggleable__label-arrow:before {color: black;}#sk-container-id-1 div.sk-toggleable__content {max-height: 0;max-width: 0;overflow: hidden;text-align: left;background-color: #f0f8ff;}#sk-container-id-1 div.sk-toggleable__content pre {margin: 0.2em;color: black;border-radius: 0.25em;background-color: #f0f8ff;}#sk-container-id-1 input.sk-toggleable__control:checked~div.sk-toggleable__content {max-height: 200px;max-width: 100%;overflow: auto;}#sk-container-id-1 input.sk-toggleable__control:checked~label.sk-toggleable__label-arrow:before {content: \"▾\";}#sk-container-id-1 div.sk-estimator input.sk-toggleable__control:checked~label.sk-toggleable__label {background-color: #d4ebff;}#sk-container-id-1 div.sk-label input.sk-toggleable__control:checked~label.sk-toggleable__label {background-color: #d4ebff;}#sk-container-id-1 input.sk-hidden--visually {border: 0;clip: rect(1px 1px 1px 1px);clip: rect(1px, 1px, 1px, 1px);height: 1px;margin: -1px;overflow: hidden;padding: 0;position: absolute;width: 1px;}#sk-container-id-1 div.sk-estimator {font-family: monospace;background-color: #f0f8ff;border: 1px dotted black;border-radius: 0.25em;box-sizing: border-box;margin-bottom: 0.5em;}#sk-container-id-1 div.sk-estimator:hover {background-color: #d4ebff;}#sk-container-id-1 div.sk-parallel-item::after {content: \"\";width: 100%;border-bottom: 1px solid gray;flex-grow: 1;}#sk-container-id-1 div.sk-label:hover label.sk-toggleable__label {background-color: #d4ebff;}#sk-container-id-1 div.sk-serial::before {content: \"\";position: absolute;border-left: 1px solid gray;box-sizing: border-box;top: 0;bottom: 0;left: 50%;z-index: 0;}#sk-container-id-1 div.sk-serial {display: flex;flex-direction: column;align-items: center;background-color: white;padding-right: 0.2em;padding-left: 0.2em;position: relative;}#sk-container-id-1 div.sk-item {position: relative;z-index: 1;}#sk-container-id-1 div.sk-parallel {display: flex;align-items: stretch;justify-content: center;background-color: white;position: relative;}#sk-container-id-1 div.sk-item::before, #sk-container-id-1 div.sk-parallel-item::before {content: \"\";position: absolute;border-left: 1px solid gray;box-sizing: border-box;top: 0;bottom: 0;left: 50%;z-index: -1;}#sk-container-id-1 div.sk-parallel-item {display: flex;flex-direction: column;z-index: 1;position: relative;background-color: white;}#sk-container-id-1 div.sk-parallel-item:first-child::after {align-self: flex-end;width: 50%;}#sk-container-id-1 div.sk-parallel-item:last-child::after {align-self: flex-start;width: 50%;}#sk-container-id-1 div.sk-parallel-item:only-child::after {width: 0;}#sk-container-id-1 div.sk-dashed-wrapped {border: 1px dashed gray;margin: 0 0.4em 0.5em 0.4em;box-sizing: border-box;padding-bottom: 0.4em;background-color: white;}#sk-container-id-1 div.sk-label label {font-family: monospace;font-weight: bold;display: inline-block;line-height: 1.2em;}#sk-container-id-1 div.sk-label-container {text-align: center;}#sk-container-id-1 div.sk-container {/* jupyter's `normalize.less` sets `[hidden] { display: none; }` but bootstrap.min.css set `[hidden] { display: none !important; }` so we also need the `!important` here to be able to override the default hidden behavior on the sphinx rendered scikit-learn.org. See: https://github.com/scikit-learn/scikit-learn/issues/21755 */display: inline-block !important;position: relative;}#sk-container-id-1 div.sk-text-repr-fallback {display: none;}</style><div id=\"sk-container-id-1\" class=\"sk-top-container\"><div class=\"sk-text-repr-fallback\"><pre>KNeighborsClassifier(n_neighbors=3)</pre><b>In a Jupyter environment, please rerun this cell to show the HTML representation or trust the notebook. <br />On GitHub, the HTML representation is unable to render, please try loading this page with nbviewer.org.</b></div><div class=\"sk-container\" hidden><div class=\"sk-item\"><div class=\"sk-estimator sk-toggleable\"><input class=\"sk-toggleable__control sk-hidden--visually\" id=\"sk-estimator-id-1\" type=\"checkbox\" checked><label for=\"sk-estimator-id-1\" class=\"sk-toggleable__label sk-toggleable__label-arrow\">KNeighborsClassifier</label><div class=\"sk-toggleable__content\"><pre>KNeighborsClassifier(n_neighbors=3)</pre></div></div></div></div></div>"
      ],
      "text/plain": [
       "KNeighborsClassifier(n_neighbors=3)"
      ]
     },
     "execution_count": 5,
     "metadata": {},
     "output_type": "execute_result"
    }
   ],
   "source": [
    "# Train the model on the training data\n",
    "knn.fit(X_train, y_train)\n"
   ]
  },
  {
   "cell_type": "code",
   "execution_count": 6,
   "id": "26966aa2",
   "metadata": {
    "execution": {
     "iopub.execute_input": "2024-03-18T14:15:23.504777Z",
     "iopub.status.busy": "2024-03-18T14:15:23.503678Z",
     "iopub.status.idle": "2024-03-18T14:15:23.514649Z",
     "shell.execute_reply": "2024-03-18T14:15:23.513484Z"
    },
    "papermill": {
     "duration": 0.018574,
     "end_time": "2024-03-18T14:15:23.517732",
     "exception": false,
     "start_time": "2024-03-18T14:15:23.499158",
     "status": "completed"
    },
    "tags": []
   },
   "outputs": [],
   "source": [
    "# Make predictions on the testing data\n",
    "y_pred = knn.predict(X_test)"
   ]
  },
  {
   "cell_type": "code",
   "execution_count": 7,
   "id": "72ecb22c",
   "metadata": {
    "execution": {
     "iopub.execute_input": "2024-03-18T14:15:23.527480Z",
     "iopub.status.busy": "2024-03-18T14:15:23.526365Z",
     "iopub.status.idle": "2024-03-18T14:15:23.532485Z",
     "shell.execute_reply": "2024-03-18T14:15:23.531379Z"
    },
    "papermill": {
     "duration": 0.013615,
     "end_time": "2024-03-18T14:15:23.534770",
     "exception": false,
     "start_time": "2024-03-18T14:15:23.521155",
     "status": "completed"
    },
    "tags": []
   },
   "outputs": [],
   "source": [
    "# Calculate the accuracy\n",
    "accuracy = accuracy_score(y_test, y_pred)"
   ]
  },
  {
   "cell_type": "code",
   "execution_count": 8,
   "id": "1283c564",
   "metadata": {
    "execution": {
     "iopub.execute_input": "2024-03-18T14:15:23.543031Z",
     "iopub.status.busy": "2024-03-18T14:15:23.542282Z",
     "iopub.status.idle": "2024-03-18T14:15:23.548341Z",
     "shell.execute_reply": "2024-03-18T14:15:23.547055Z"
    },
    "papermill": {
     "duration": 0.012721,
     "end_time": "2024-03-18T14:15:23.550719",
     "exception": false,
     "start_time": "2024-03-18T14:15:23.537998",
     "status": "completed"
    },
    "tags": []
   },
   "outputs": [
    {
     "name": "stdout",
     "output_type": "stream",
     "text": [
      "Accuracy of the Iris classification model: 1.00\n"
     ]
    }
   ],
   "source": [
    "print(f\"Accuracy of the Iris classification model: {accuracy:.2f}\")"
   ]
  }
 ],
 "metadata": {
  "kaggle": {
   "accelerator": "none",
   "dataSources": [],
   "dockerImageVersionId": 30664,
   "isGpuEnabled": false,
   "isInternetEnabled": true,
   "language": "python",
   "sourceType": "notebook"
  },
  "kernelspec": {
   "display_name": "Python 3",
   "language": "python",
   "name": "python3"
  },
  "language_info": {
   "codemirror_mode": {
    "name": "ipython",
    "version": 3
   },
   "file_extension": ".py",
   "mimetype": "text/x-python",
   "name": "python",
   "nbconvert_exporter": "python",
   "pygments_lexer": "ipython3",
   "version": "3.10.13"
  },
  "papermill": {
   "default_parameters": {},
   "duration": 6.182333,
   "end_time": "2024-03-18T14:15:24.174751",
   "environment_variables": {},
   "exception": null,
   "input_path": "__notebook__.ipynb",
   "output_path": "__notebook__.ipynb",
   "parameters": {},
   "start_time": "2024-03-18T14:15:17.992418",
   "version": "2.5.0"
  }
 },
 "nbformat": 4,
 "nbformat_minor": 5
}
